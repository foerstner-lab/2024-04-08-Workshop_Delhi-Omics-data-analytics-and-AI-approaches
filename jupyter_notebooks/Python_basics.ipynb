{
 "cells": [
  {
   "cell_type": "markdown",
   "id": "6264a632",
   "metadata": {},
   "source": [
    "# Python Introduction"
   ]
  },
  {
   "cell_type": "code",
   "execution_count": 1,
   "id": "36bb5e08",
   "metadata": {},
   "outputs": [
    {
     "name": "stdout",
     "output_type": "stream",
     "text": [
      "Hello World\n"
     ]
    }
   ],
   "source": [
    "print(\"Hello World\")"
   ]
  },
  {
   "cell_type": "code",
   "execution_count": 2,
   "id": "1a3ce3de",
   "metadata": {},
   "outputs": [],
   "source": [
    "# Variables\n",
    "name = \"Lovelace\""
   ]
  },
  {
   "cell_type": "code",
   "execution_count": 3,
   "id": "5e75285d",
   "metadata": {},
   "outputs": [
    {
     "name": "stdout",
     "output_type": "stream",
     "text": [
      "Lovelace\n"
     ]
    }
   ],
   "source": [
    "print(name)"
   ]
  },
  {
   "cell_type": "code",
   "execution_count": 4,
   "id": "4ca7dd58",
   "metadata": {},
   "outputs": [
    {
     "data": {
      "text/plain": [
       "'Lovelace'"
      ]
     },
     "execution_count": 4,
     "metadata": {},
     "output_type": "execute_result"
    }
   ],
   "source": [
    "name"
   ]
  },
  {
   "cell_type": "code",
   "execution_count": 5,
   "id": "a3cef67f",
   "metadata": {},
   "outputs": [],
   "source": [
    "first_name = \"Ada\""
   ]
  },
  {
   "cell_type": "code",
   "execution_count": 6,
   "id": "1303141e",
   "metadata": {},
   "outputs": [
    {
     "name": "stdout",
     "output_type": "stream",
     "text": [
      "Ada\n"
     ]
    }
   ],
   "source": [
    "print(first_name)"
   ]
  },
  {
   "cell_type": "code",
   "execution_count": 7,
   "id": "5488a4ba",
   "metadata": {},
   "outputs": [
    {
     "data": {
      "text/plain": [
       "'Ada'"
      ]
     },
     "execution_count": 7,
     "metadata": {},
     "output_type": "execute_result"
    }
   ],
   "source": [
    "name\n",
    "first_name"
   ]
  },
  {
   "cell_type": "code",
   "execution_count": 8,
   "id": "a9bc227a",
   "metadata": {},
   "outputs": [],
   "source": [
    "# Integer\n",
    "age = 37"
   ]
  },
  {
   "cell_type": "code",
   "execution_count": 9,
   "id": "2497675a",
   "metadata": {},
   "outputs": [],
   "source": [
    "# Float\n",
    "size = 1.71"
   ]
  },
  {
   "cell_type": "code",
   "execution_count": 10,
   "id": "ccb3febc",
   "metadata": {},
   "outputs": [],
   "source": [
    "# Boolean\n",
    "knows_math = True\n",
    "likes_gardening = False"
   ]
  },
  {
   "cell_type": "code",
   "execution_count": 11,
   "id": "f068f158",
   "metadata": {},
   "outputs": [
    {
     "name": "stdout",
     "output_type": "stream",
     "text": [
      "True\n"
     ]
    }
   ],
   "source": [
    "print(knows_math)"
   ]
  },
  {
   "cell_type": "code",
   "execution_count": 12,
   "id": "cbb2e45b",
   "metadata": {},
   "outputs": [
    {
     "data": {
      "text/plain": [
       "bool"
      ]
     },
     "execution_count": 12,
     "metadata": {},
     "output_type": "execute_result"
    }
   ],
   "source": [
    "type(knows_math)"
   ]
  },
  {
   "cell_type": "code",
   "execution_count": 13,
   "id": "e82c7129",
   "metadata": {},
   "outputs": [
    {
     "name": "stdout",
     "output_type": "stream",
     "text": [
      "<class 'str'>\n",
      "<class 'float'>\n",
      "<class 'int'>\n"
     ]
    }
   ],
   "source": [
    "#datatypes of name, size, age\n",
    "print(type(name))\n",
    "print(type(size))\n",
    "print(type(age))"
   ]
  },
  {
   "cell_type": "code",
   "execution_count": 14,
   "id": "588a812f",
   "metadata": {},
   "outputs": [
    {
     "ename": "NameError",
     "evalue": "name 'eye_color' is not defined",
     "output_type": "error",
     "traceback": [
      "\u001b[0;31m---------------------------------------------------------------------------\u001b[0m",
      "\u001b[0;31mNameError\u001b[0m                                 Traceback (most recent call last)",
      "Cell \u001b[0;32mIn[14], line 1\u001b[0m\n\u001b[0;32m----> 1\u001b[0m \u001b[38;5;28mtype\u001b[39m(eye_color)\n",
      "\u001b[0;31mNameError\u001b[0m: name 'eye_color' is not defined"
     ]
    }
   ],
   "source": [
    "type(eye_color)"
   ]
  },
  {
   "cell_type": "code",
   "execution_count": 15,
   "id": "90e3b32e",
   "metadata": {},
   "outputs": [
    {
     "data": {
      "text/plain": [
       "10"
      ]
     },
     "execution_count": 15,
     "metadata": {},
     "output_type": "execute_result"
    }
   ],
   "source": [
    "# Operators\n",
    "5 + 5"
   ]
  },
  {
   "cell_type": "code",
   "execution_count": 20,
   "id": "9b4a7ed7",
   "metadata": {},
   "outputs": [
    {
     "data": {
      "text/plain": [
       "3700"
      ]
     },
     "execution_count": 20,
     "metadata": {},
     "output_type": "execute_result"
    }
   ],
   "source": [
    "100 * age"
   ]
  },
  {
   "cell_type": "code",
   "execution_count": 17,
   "id": "67ad680e",
   "metadata": {},
   "outputs": [
    {
     "data": {
      "text/plain": [
       "37"
      ]
     },
     "execution_count": 17,
     "metadata": {},
     "output_type": "execute_result"
    }
   ],
   "source": [
    "age"
   ]
  },
  {
   "cell_type": "code",
   "execution_count": 18,
   "id": "65068ee0",
   "metadata": {},
   "outputs": [
    {
     "data": {
      "text/plain": [
       "'LovelaceLovelace'"
      ]
     },
     "execution_count": 18,
     "metadata": {},
     "output_type": "execute_result"
    }
   ],
   "source": [
    "name + name"
   ]
  },
  {
   "cell_type": "code",
   "execution_count": 19,
   "id": "d46cf417",
   "metadata": {},
   "outputs": [
    {
     "data": {
      "text/plain": [
       "'LovelaceLovelaceLovelaceLovelaceLovelaceLovelaceLovelaceLovelaceLovelaceLovelace'"
      ]
     },
     "execution_count": 19,
     "metadata": {},
     "output_type": "execute_result"
    }
   ],
   "source": [
    "name * 10"
   ]
  },
  {
   "cell_type": "code",
   "execution_count": 21,
   "id": "11009931",
   "metadata": {},
   "outputs": [
    {
     "ename": "TypeError",
     "evalue": "can only concatenate str (not \"int\") to str",
     "output_type": "error",
     "traceback": [
      "\u001b[0;31m---------------------------------------------------------------------------\u001b[0m",
      "\u001b[0;31mTypeError\u001b[0m                                 Traceback (most recent call last)",
      "Cell \u001b[0;32mIn[21], line 1\u001b[0m\n\u001b[0;32m----> 1\u001b[0m name \u001b[38;5;241m+\u001b[39m \u001b[38;5;241m10\u001b[39m\n",
      "\u001b[0;31mTypeError\u001b[0m: can only concatenate str (not \"int\") to str"
     ]
    }
   ],
   "source": [
    "name + 10"
   ]
  },
  {
   "cell_type": "code",
   "execution_count": 22,
   "id": "ad5e4e59",
   "metadata": {},
   "outputs": [
    {
     "data": {
      "text/plain": [
       "'Lovelace10'"
      ]
     },
     "execution_count": 22,
     "metadata": {},
     "output_type": "execute_result"
    }
   ],
   "source": [
    "name + \"10\""
   ]
  },
  {
   "cell_type": "code",
   "execution_count": 23,
   "id": "c0815de2",
   "metadata": {},
   "outputs": [
    {
     "data": {
      "text/plain": [
       "0.046216216216216216"
      ]
     },
     "execution_count": 23,
     "metadata": {},
     "output_type": "execute_result"
    }
   ],
   "source": [
    "size / age"
   ]
  },
  {
   "cell_type": "code",
   "execution_count": 25,
   "id": "2a204430",
   "metadata": {},
   "outputs": [],
   "source": [
    "number_of_genes = \"50\""
   ]
  },
  {
   "cell_type": "code",
   "execution_count": 26,
   "id": "0f33ce3e",
   "metadata": {},
   "outputs": [
    {
     "ename": "TypeError",
     "evalue": "unsupported operand type(s) for /: 'str' and 'int'",
     "output_type": "error",
     "traceback": [
      "\u001b[0;31m---------------------------------------------------------------------------\u001b[0m",
      "\u001b[0;31mTypeError\u001b[0m                                 Traceback (most recent call last)",
      "Cell \u001b[0;32mIn[26], line 1\u001b[0m\n\u001b[0;32m----> 1\u001b[0m number_of_genes \u001b[38;5;241m/\u001b[39m \u001b[38;5;241m10\u001b[39m\n",
      "\u001b[0;31mTypeError\u001b[0m: unsupported operand type(s) for /: 'str' and 'int'"
     ]
    }
   ],
   "source": [
    "number_of_genes / 10"
   ]
  },
  {
   "cell_type": "code",
   "execution_count": 27,
   "id": "858e4690",
   "metadata": {},
   "outputs": [
    {
     "data": {
      "text/plain": [
       "5.0"
      ]
     },
     "execution_count": 27,
     "metadata": {},
     "output_type": "execute_result"
    }
   ],
   "source": [
    "int(number_of_genes) / 10"
   ]
  },
  {
   "cell_type": "code",
   "execution_count": 28,
   "id": "ecef4a46",
   "metadata": {},
   "outputs": [
    {
     "data": {
      "text/plain": [
       "str"
      ]
     },
     "execution_count": 28,
     "metadata": {},
     "output_type": "execute_result"
    }
   ],
   "source": [
    "type(number_of_genes)"
   ]
  },
  {
   "cell_type": "code",
   "execution_count": 31,
   "id": "69ad6a7c",
   "metadata": {},
   "outputs": [],
   "source": [
    "number_of_genes_integer = int(number_of_genes)"
   ]
  },
  {
   "cell_type": "code",
   "execution_count": 32,
   "id": "f468c6a0",
   "metadata": {},
   "outputs": [
    {
     "data": {
      "text/plain": [
       "5.0"
      ]
     },
     "execution_count": 32,
     "metadata": {},
     "output_type": "execute_result"
    }
   ],
   "source": [
    "number_of_genes_integer / 10"
   ]
  },
  {
   "cell_type": "code",
   "execution_count": 33,
   "id": "d4c1fb24",
   "metadata": {},
   "outputs": [],
   "source": [
    "number_of_genes = int(number_of_genes)"
   ]
  },
  {
   "cell_type": "code",
   "execution_count": 34,
   "id": "80669c39",
   "metadata": {},
   "outputs": [
    {
     "data": {
      "text/plain": [
       "int"
      ]
     },
     "execution_count": 34,
     "metadata": {},
     "output_type": "execute_result"
    }
   ],
   "source": [
    "type(number_of_genes)"
   ]
  },
  {
   "cell_type": "code",
   "execution_count": 35,
   "id": "ac810607",
   "metadata": {},
   "outputs": [
    {
     "name": "stdout",
     "output_type": "stream",
     "text": [
      "Lovelace\n"
     ]
    }
   ],
   "source": [
    "# Functions and Methods\n",
    "print(name)"
   ]
  },
  {
   "cell_type": "code",
   "execution_count": 36,
   "id": "6e93b2d3",
   "metadata": {},
   "outputs": [
    {
     "data": {
      "text/plain": [
       "8"
      ]
     },
     "execution_count": 36,
     "metadata": {},
     "output_type": "execute_result"
    }
   ],
   "source": [
    "len(name)"
   ]
  },
  {
   "cell_type": "code",
   "execution_count": 37,
   "id": "ffd91dba",
   "metadata": {},
   "outputs": [
    {
     "data": {
      "text/plain": [
       "'LOVELACE'"
      ]
     },
     "execution_count": 37,
     "metadata": {},
     "output_type": "execute_result"
    }
   ],
   "source": [
    "name.upper()"
   ]
  },
  {
   "cell_type": "code",
   "execution_count": 38,
   "id": "1389d995",
   "metadata": {},
   "outputs": [
    {
     "data": {
      "text/plain": [
       "'Lovelace'"
      ]
     },
     "execution_count": 38,
     "metadata": {},
     "output_type": "execute_result"
    }
   ],
   "source": [
    "name"
   ]
  },
  {
   "cell_type": "code",
   "execution_count": 39,
   "id": "78b6c335",
   "metadata": {},
   "outputs": [],
   "source": [
    "name_capital = name.upper()"
   ]
  },
  {
   "cell_type": "code",
   "execution_count": 40,
   "id": "a092ccb5",
   "metadata": {},
   "outputs": [
    {
     "data": {
      "text/plain": [
       "'LOVELACE'"
      ]
     },
     "execution_count": 40,
     "metadata": {},
     "output_type": "execute_result"
    }
   ],
   "source": [
    "name_capital"
   ]
  },
  {
   "cell_type": "code",
   "execution_count": 41,
   "id": "9894cfc7",
   "metadata": {},
   "outputs": [
    {
     "data": {
      "text/plain": [
       "2"
      ]
     },
     "execution_count": 41,
     "metadata": {},
     "output_type": "execute_result"
    }
   ],
   "source": [
    "name.count(\"e\")"
   ]
  },
  {
   "cell_type": "code",
   "execution_count": 42,
   "id": "5b942525",
   "metadata": {},
   "outputs": [
    {
     "data": {
      "text/plain": [
       "'Love is everyhwere'"
      ]
     },
     "execution_count": 42,
     "metadata": {},
     "output_type": "execute_result"
    }
   ],
   "source": [
    "name.replace(\"lace\", \" is everyhwere\")"
   ]
  },
  {
   "cell_type": "code",
   "execution_count": 52,
   "id": "406d0f77",
   "metadata": {},
   "outputs": [],
   "source": [
    "seq = \"AAAAA\""
   ]
  },
  {
   "cell_type": "code",
   "execution_count": 53,
   "id": "5d046f60",
   "metadata": {},
   "outputs": [
    {
     "data": {
      "text/plain": [
       "'TTTTT'"
      ]
     },
     "execution_count": 53,
     "metadata": {},
     "output_type": "execute_result"
    }
   ],
   "source": [
    "seq.replace(\"A\", \"T\")"
   ]
  },
  {
   "cell_type": "code",
   "execution_count": 55,
   "id": "3311c1ce",
   "metadata": {},
   "outputs": [
    {
     "data": {
      "text/plain": [
       "'TTTTT'"
      ]
     },
     "execution_count": 55,
     "metadata": {},
     "output_type": "execute_result"
    }
   ],
   "source": [
    "seq.replace(\"A\", \"T\", -1)"
   ]
  },
  {
   "cell_type": "code",
   "execution_count": 51,
   "id": "3e501e2c",
   "metadata": {},
   "outputs": [],
   "source": [
    "name.replace?"
   ]
  },
  {
   "cell_type": "code",
   "execution_count": 45,
   "id": "fb2515d2",
   "metadata": {},
   "outputs": [],
   "source": [
    "# Lists and Dictionaries"
   ]
  },
  {
   "cell_type": "code",
   "execution_count": 46,
   "id": "b428e748",
   "metadata": {},
   "outputs": [],
   "source": [
    "# List"
   ]
  },
  {
   "cell_type": "code",
   "execution_count": 47,
   "id": "1576c087",
   "metadata": {},
   "outputs": [],
   "source": [
    "names = [\"Lovelace\", \"Darwin\", \"Noether\", \"Hawking\"]"
   ]
  },
  {
   "cell_type": "code",
   "execution_count": 48,
   "id": "4ff07280",
   "metadata": {},
   "outputs": [],
   "source": [
    "my_empty_list = []"
   ]
  },
  {
   "cell_type": "code",
   "execution_count": 49,
   "id": "63db9551",
   "metadata": {},
   "outputs": [],
   "source": [
    "my_empty_list.append(\"Till\")"
   ]
  },
  {
   "cell_type": "code",
   "execution_count": 50,
   "id": "c378385b",
   "metadata": {},
   "outputs": [
    {
     "name": "stdout",
     "output_type": "stream",
     "text": [
      "['Till']\n"
     ]
    }
   ],
   "source": [
    "print(my_empty_list)"
   ]
  },
  {
   "cell_type": "code",
   "execution_count": 56,
   "id": "c151f504",
   "metadata": {},
   "outputs": [
    {
     "data": {
      "text/plain": [
       "['Lovelace', 'Darwin', 'Noether', 'Hawking']"
      ]
     },
     "execution_count": 56,
     "metadata": {},
     "output_type": "execute_result"
    }
   ],
   "source": [
    "names"
   ]
  },
  {
   "cell_type": "code",
   "execution_count": 57,
   "id": "89189dfa",
   "metadata": {},
   "outputs": [
    {
     "data": {
      "text/plain": [
       "'Darwin'"
      ]
     },
     "execution_count": 57,
     "metadata": {},
     "output_type": "execute_result"
    }
   ],
   "source": [
    "names[1]"
   ]
  },
  {
   "cell_type": "code",
   "execution_count": 58,
   "id": "3250983d",
   "metadata": {},
   "outputs": [
    {
     "data": {
      "text/plain": [
       "'Lovelace'"
      ]
     },
     "execution_count": 58,
     "metadata": {},
     "output_type": "execute_result"
    }
   ],
   "source": [
    "names[0]"
   ]
  },
  {
   "cell_type": "code",
   "execution_count": 59,
   "id": "314350ab",
   "metadata": {},
   "outputs": [
    {
     "data": {
      "text/plain": [
       "'Hawking'"
      ]
     },
     "execution_count": 59,
     "metadata": {},
     "output_type": "execute_result"
    }
   ],
   "source": [
    "names[-1]"
   ]
  },
  {
   "cell_type": "code",
   "execution_count": 60,
   "id": "ec1ff55b",
   "metadata": {},
   "outputs": [
    {
     "data": {
      "text/plain": [
       "['Lovelace', 'Darwin']"
      ]
     },
     "execution_count": 60,
     "metadata": {},
     "output_type": "execute_result"
    }
   ],
   "source": [
    "names[0:2]"
   ]
  },
  {
   "cell_type": "code",
   "execution_count": 61,
   "id": "c65d7424",
   "metadata": {},
   "outputs": [
    {
     "data": {
      "text/plain": [
       "['Lovelace', 'Darwin']"
      ]
     },
     "execution_count": 61,
     "metadata": {},
     "output_type": "execute_result"
    }
   ],
   "source": [
    "names[:2]"
   ]
  },
  {
   "cell_type": "code",
   "execution_count": 62,
   "id": "f6cadd73",
   "metadata": {},
   "outputs": [
    {
     "data": {
      "text/plain": [
       "['Noether', 'Hawking']"
      ]
     },
     "execution_count": 62,
     "metadata": {},
     "output_type": "execute_result"
    }
   ],
   "source": [
    "names[2:]"
   ]
  },
  {
   "cell_type": "code",
   "execution_count": 63,
   "id": "c1c0dac5",
   "metadata": {},
   "outputs": [
    {
     "data": {
      "text/plain": [
       "[]"
      ]
     },
     "execution_count": 63,
     "metadata": {},
     "output_type": "execute_result"
    }
   ],
   "source": [
    "names[-1:1]"
   ]
  },
  {
   "cell_type": "code",
   "execution_count": 66,
   "id": "4fc7e71e",
   "metadata": {},
   "outputs": [
    {
     "data": {
      "text/plain": [
       "['Noether', 'Hawking']"
      ]
     },
     "execution_count": 66,
     "metadata": {},
     "output_type": "execute_result"
    }
   ],
   "source": [
    "names[-2:]"
   ]
  },
  {
   "cell_type": "code",
   "execution_count": 67,
   "id": "17921fa6",
   "metadata": {},
   "outputs": [
    {
     "data": {
      "text/plain": [
       "['Lovelace', 'Darwin']"
      ]
     },
     "execution_count": 67,
     "metadata": {},
     "output_type": "execute_result"
    }
   ],
   "source": [
    "names[:2]"
   ]
  },
  {
   "cell_type": "code",
   "execution_count": 68,
   "id": "0d3da898",
   "metadata": {},
   "outputs": [
    {
     "data": {
      "text/plain": [
       "['Noether', 'Hawking', 'Lovelace', 'Darwin']"
      ]
     },
     "execution_count": 68,
     "metadata": {},
     "output_type": "execute_result"
    }
   ],
   "source": [
    "names[-2:] + names[:2]"
   ]
  },
  {
   "cell_type": "code",
   "execution_count": 69,
   "id": "64990a23",
   "metadata": {},
   "outputs": [],
   "source": [
    "authors_and_birth_years = {\"Lovelace\": 1815,\n",
    "                           \"Darwin\": 1809, \n",
    "                           \"Noether\": 1882,\n",
    "                           \"Hawking\": 1942}"
   ]
  },
  {
   "cell_type": "code",
   "execution_count": 70,
   "id": "682a01de",
   "metadata": {},
   "outputs": [
    {
     "data": {
      "text/plain": [
       "1809"
      ]
     },
     "execution_count": 70,
     "metadata": {},
     "output_type": "execute_result"
    }
   ],
   "source": [
    "authors_and_birth_years[\"Darwin\"]"
   ]
  },
  {
   "cell_type": "code",
   "execution_count": 71,
   "id": "a7135165",
   "metadata": {},
   "outputs": [],
   "source": [
    "authors_and_birth_years = {\"Lovelace\": 1815,\n",
    "                           \"Darwin\": 1809, \n",
    "                           \"Noether\": 1882,\n",
    "                           \"Hawking\": 1942,\n",
    "                          \"names\": names}"
   ]
  },
  {
   "cell_type": "code",
   "execution_count": 72,
   "id": "e8047d1a",
   "metadata": {},
   "outputs": [
    {
     "data": {
      "text/plain": [
       "['Lovelace', 'Darwin', 'Noether', 'Hawking']"
      ]
     },
     "execution_count": 72,
     "metadata": {},
     "output_type": "execute_result"
    }
   ],
   "source": [
    "authors_and_birth_years[\"names\"]"
   ]
  },
  {
   "cell_type": "code",
   "execution_count": 73,
   "id": "f5da4c24",
   "metadata": {},
   "outputs": [
    {
     "data": {
      "text/plain": [
       "'Noether'"
      ]
     },
     "execution_count": 73,
     "metadata": {},
     "output_type": "execute_result"
    }
   ],
   "source": [
    "authors_and_birth_years[\"names\"][2]"
   ]
  },
  {
   "cell_type": "code",
   "execution_count": 74,
   "id": "4901b36b",
   "metadata": {},
   "outputs": [],
   "source": [
    "# for-loop"
   ]
  },
  {
   "cell_type": "code",
   "execution_count": 75,
   "id": "a8154f0e",
   "metadata": {},
   "outputs": [
    {
     "name": "stdout",
     "output_type": "stream",
     "text": [
      "['Lovelace', 'Darwin', 'Noether', 'Hawking']\n"
     ]
    }
   ],
   "source": [
    "print(names)"
   ]
  },
  {
   "cell_type": "code",
   "execution_count": 77,
   "id": "1d4bc6f8",
   "metadata": {},
   "outputs": [
    {
     "name": "stdout",
     "output_type": "stream",
     "text": [
      "Lovelace did awesome stuff\n",
      "-------\n",
      "Darwin did awesome stuff\n",
      "-------\n",
      "Noether did awesome stuff\n",
      "-------\n",
      "Hawking did awesome stuff\n",
      "-------\n"
     ]
    }
   ],
   "source": [
    "for person in names:\n",
    "    print(person + \" did awesome stuff\")\n",
    "    print(\"-------\")"
   ]
  },
  {
   "cell_type": "code",
   "execution_count": 78,
   "id": "d681f6f2",
   "metadata": {},
   "outputs": [
    {
     "name": "stdout",
     "output_type": "stream",
     "text": [
      "Lovelace did awesome stuff\n",
      "Darwin did awesome stuff\n",
      "Noether did awesome stuff\n",
      "Hawking did awesome stuff\n",
      "-------\n"
     ]
    }
   ],
   "source": [
    "for person in names:\n",
    "    print(person + \" did awesome stuff\")\n",
    "print(\"-------\")"
   ]
  },
  {
   "cell_type": "code",
   "execution_count": 80,
   "id": "abc96ae4",
   "metadata": {},
   "outputs": [],
   "source": [
    "# Conditionals\n",
    "temp = 12\n",
    "if temp > 15:\n",
    "    print(\"It's warm\")"
   ]
  },
  {
   "cell_type": "code",
   "execution_count": 81,
   "id": "4ff25523",
   "metadata": {},
   "outputs": [
    {
     "data": {
      "text/plain": [
       "False"
      ]
     },
     "execution_count": 81,
     "metadata": {},
     "output_type": "execute_result"
    }
   ],
   "source": [
    "temp > 15"
   ]
  },
  {
   "cell_type": "code",
   "execution_count": 82,
   "id": "b2b47370",
   "metadata": {},
   "outputs": [
    {
     "data": {
      "text/plain": [
       "True"
      ]
     },
     "execution_count": 82,
     "metadata": {},
     "output_type": "execute_result"
    }
   ],
   "source": [
    "temp < 15"
   ]
  },
  {
   "cell_type": "code",
   "execution_count": 83,
   "id": "71be6ab0",
   "metadata": {},
   "outputs": [
    {
     "name": "stdout",
     "output_type": "stream",
     "text": [
      "It's cold\n"
     ]
    }
   ],
   "source": [
    "temp = 12\n",
    "if temp > 15:\n",
    "    print(\"It's warm\")\n",
    "else:\n",
    "    print(\"It's cold\")"
   ]
  },
  {
   "cell_type": "code",
   "execution_count": 85,
   "id": "a8a3a42e",
   "metadata": {},
   "outputs": [
    {
     "name": "stdout",
     "output_type": "stream",
     "text": [
      "It's warm\n"
     ]
    }
   ],
   "source": [
    "temp = 16\n",
    "if temp > 25:\n",
    "    print(\"It's hot\")\n",
    "elif temp > 15:\n",
    "    print(\"It's warm\")\n",
    "else:\n",
    "    print(\"It's cold\")"
   ]
  },
  {
   "cell_type": "code",
   "execution_count": null,
   "id": "3afdcc7f",
   "metadata": {},
   "outputs": [],
   "source": []
  }
 ],
 "metadata": {
  "kernelspec": {
   "display_name": "Python 3 (ipykernel)",
   "language": "python",
   "name": "python3"
  },
  "language_info": {
   "codemirror_mode": {
    "name": "ipython",
    "version": 3
   },
   "file_extension": ".py",
   "mimetype": "text/x-python",
   "name": "python",
   "nbconvert_exporter": "python",
   "pygments_lexer": "ipython3",
   "version": "3.11.5"
  }
 },
 "nbformat": 4,
 "nbformat_minor": 5
}
