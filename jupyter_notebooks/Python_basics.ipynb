{
 "cells": [
  {
   "cell_type": "markdown",
   "id": "162a42f7",
   "metadata": {},
   "source": [
    "# Python Basics\n",
    "\n",
    "Here we want to explore **Python**!"
   ]
  },
  {
   "cell_type": "markdown",
   "id": "e8079eba",
   "metadata": {},
   "source": [
    "### First statement"
   ]
  },
  {
   "cell_type": "code",
   "execution_count": 2,
   "id": "bfde42b3",
   "metadata": {},
   "outputs": [
    {
     "name": "stdout",
     "output_type": "stream",
     "text": [
      "Hello World!\n"
     ]
    }
   ],
   "source": [
    "print(\"Hello World!\")"
   ]
  },
  {
   "cell_type": "markdown",
   "id": "a0862717",
   "metadata": {},
   "source": [
    "### Comments"
   ]
  },
  {
   "cell_type": "code",
   "execution_count": 3,
   "id": "8d8beedb",
   "metadata": {},
   "outputs": [
    {
     "name": "stdout",
     "output_type": "stream",
     "text": [
      "This is interpreted\n"
     ]
    }
   ],
   "source": [
    "# This is comment. It is not interpreted by Python\n",
    "print(\"This is interpreted\")\n"
   ]
  },
  {
   "cell_type": "code",
   "execution_count": null,
   "id": "82a29747",
   "metadata": {},
   "outputs": [],
   "source": []
  }
 ],
 "metadata": {
  "kernelspec": {
   "display_name": "Python 3 (ipykernel)",
   "language": "python",
   "name": "python3"
  },
  "language_info": {
   "codemirror_mode": {
    "name": "ipython",
    "version": 3
   },
   "file_extension": ".py",
   "mimetype": "text/x-python",
   "name": "python",
   "nbconvert_exporter": "python",
   "pygments_lexer": "ipython3",
   "version": "3.10.9"
  }
 },
 "nbformat": 4,
 "nbformat_minor": 5
}
